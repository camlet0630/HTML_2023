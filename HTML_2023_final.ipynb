{
  "nbformat": 4,
  "nbformat_minor": 0,
  "metadata": {
    "colab": {
      "provenance": [],
      "authorship_tag": "ABX9TyNsIkLjPIL1ki164gnd2xNW",
      "include_colab_link": true
    },
    "kernelspec": {
      "name": "python3",
      "display_name": "Python 3"
    },
    "language_info": {
      "name": "python"
    }
  },
  "cells": [
    {
      "cell_type": "markdown",
      "metadata": {
        "id": "view-in-github",
        "colab_type": "text"
      },
      "source": [
        "<a href=\"https://colab.research.google.com/github/camlet0630/HTML_2023/blob/main/HTML_2023_final.ipynb\" target=\"_parent\"><img src=\"https://colab.research.google.com/assets/colab-badge.svg\" alt=\"Open In Colab\"/></a>"
      ]
    },
    {
      "cell_type": "markdown",
      "source": [
        "### 安裝 Git"
      ],
      "metadata": {
        "id": "Aaq-ZD0mb7l3"
      }
    },
    {
      "cell_type": "code",
      "execution_count": 46,
      "metadata": {
        "colab": {
          "base_uri": "https://localhost:8080/"
        },
        "id": "HmvMFqFFblAc",
        "outputId": "e4474740-ed21-4b90-9079-7efc04694dd7"
      },
      "outputs": [
        {
          "output_type": "stream",
          "name": "stdout",
          "text": [
            "Reading package lists... Done\n",
            "Building dependency tree... Done\n",
            "Reading state information... Done\n",
            "git is already the newest version (1:2.34.1-1ubuntu1.10).\n",
            "0 upgraded, 0 newly installed, 0 to remove and 10 not upgraded.\n"
          ]
        }
      ],
      "source": [
        "!apt-get install -y git"
      ]
    },
    {
      "cell_type": "markdown",
      "source": [
        "clone data"
      ],
      "metadata": {
        "id": "rJhWMNzqGgRF"
      }
    },
    {
      "cell_type": "code",
      "source": [
        "!git clone https://github.com/hyusterr/html.2023.final.data.git"
      ],
      "metadata": {
        "colab": {
          "base_uri": "https://localhost:8080/"
        },
        "id": "79kvsyUfdO1z",
        "outputId": "a4c27aff-9be5-4de3-89be-049dd1e1852b"
      },
      "execution_count": 47,
      "outputs": [
        {
          "output_type": "stream",
          "name": "stdout",
          "text": [
            "Cloning into 'html.2023.final.data'...\n",
            "remote: Enumerating objects: 60645, done.\u001b[K\n",
            "remote: Total 60645 (delta 0), reused 0 (delta 0), pack-reused 60645\u001b[K\n",
            "Receiving objects: 100% (60645/60645), 270.87 MiB | 23.47 MiB/s, done.\n",
            "Resolving deltas: 100% (60188/60188), done.\n",
            "Updating files: 100% (59392/59392), done.\n"
          ]
        }
      ]
    },
    {
      "cell_type": "markdown",
      "source": [
        "### Read Data"
      ],
      "metadata": {
        "id": "ya9UKJ4vfWHD"
      }
    },
    {
      "cell_type": "code",
      "source": [
        "import os\n",
        "import pandas as pd\n",
        "import json\n",
        "\n",
        "# 切换到存储库目录\n",
        "repo_dir = \"/content/html.2023.final.data/release\"\n",
        "#os.chdir('/content')  # return to root\n",
        "os.chdir(repo_dir)\n",
        "\n",
        "# 存储所有 JSON 文件的路径\n",
        "json_files = []\n",
        "\n",
        "# 获取所有文件夹列表\n",
        "folder_list = sorted([folder for folder in os.listdir() if os.path.isdir(folder)])\n",
        "print(folder_list)\n",
        "\n",
        "# 遍历每个文件夹\n",
        "for folder in folder_list:\n",
        "    folder_path = os.path.join(repo_dir, folder)  # 调整路径\n",
        "    os.chdir(folder_path)\n",
        "\n",
        "    # 获取文件夹中所有的JSON文件\n",
        "    folder_json_files = sorted([json_files for json_files in os.listdir()])\n",
        "\n",
        "    # 将文件夹中的JSON文件添加到列表\n",
        "    json_files.append(folder_json_files)\n"
      ],
      "metadata": {
        "colab": {
          "base_uri": "https://localhost:8080/",
          "height": 108
        },
        "id": "ljzjx7Wwe5n8",
        "outputId": "2c027d0b-2ded-4227-ec14-a98a1f9ddf46"
      },
      "execution_count": 48,
      "outputs": [
        {
          "output_type": "stream",
          "name": "stdout",
          "text": [
            "['20231002', '20231003', '20231004', '20231005', '20231006', '20231007', '20231008', '20231009', '20231010', '20231011', '20231015', '20231016', '20231017', '20231018', '20231019', '20231020', '20231025', '20231026', '20231027', '20231028', '20231029', '20231030', '20231031', '20231101', '20231102', '20231103', '20231104', '20231105', '20231106', '20231107', '20231108', '20231109', '20231110', '20231111', '20231112', '20231113', '20231114', '20231115', '20231116', '20231117', '20231118', '20231119', '20231120', '20231121', '20231122']\n"
          ]
        },
        {
          "output_type": "execute_result",
          "data": {
            "text/plain": [
              "'\\n# 创建一个空的DataFrame\\ndf_list = []\\n\\n# 遍历每个JSON文件\\nfor json_file in json_files:\\n    # 读取JSON文件\\n    with open(json_file, \\'r\\') as f:\\n        data = json.load(f)\\n\\n    # 将数据添加到DataFrame\\n    df_list.append(pd.json_normalize(data))\\n\\n# 检查是否找到任何JSON文件\\nif df_list:\\n    # 合并所有的DataFrame\\n    final_df = pd.concat(df_list, ignore_index=True)\\n\\n    # 显示DataFrame\\n    print(final_df.head())\\nelse:\\n    print(\"未找到任何JSON文件。\")\\n'"
            ],
            "application/vnd.google.colaboratory.intrinsic+json": {
              "type": "string"
            }
          },
          "metadata": {},
          "execution_count": 48
        }
      ]
    },
    {
      "cell_type": "code",
      "source": [
        "dataframe = pd.DataFrame()\n",
        "for i in range(len(folder_list)):\n",
        "  for j in range(len(json_files[i])):\n",
        "    with open(json_files[i][j], 'r') as f:\n",
        "        json_data = json.load(f)\n",
        "\n",
        "    df = pd.DataFrame.from_dict(json_data, orient='index')\n",
        "\n",
        "    date = folder_list[i]\n",
        "    station = json_files[i][j][:-5]\n",
        "    df[\"time\"] = df.index\n",
        "    df[\"station\"] = station\n",
        "    df[\"date\"] = date\n",
        "    df = df[[\"date\", \"station\", \"time\", \"tot\", \"sbi\", \"bemp\", \"act\"]]\n",
        "    df.reset_index(drop=True, inplace=True)\n",
        "\n",
        "    dataframe = pd.concat([dataframe, df], axis=0, ignore_index=True)\n",
        "\n",
        "dataframe"
      ],
      "metadata": {
        "id": "g4TTnt3MJMnJ"
      },
      "execution_count": null,
      "outputs": []
    },
    {
      "cell_type": "code",
      "source": [
        "# save as csv\n",
        "dataframe.to_csv('data_until_20231122.csv', index=False)"
      ],
      "metadata": {
        "id": "cV5eR9e9O5A4"
      },
      "execution_count": null,
      "outputs": []
    },
    {
      "cell_type": "markdown",
      "source": [
        "### Model Training\n",
        "\n",
        "<font color=red> sbi 是要預測的目標 </font>\n",
        "\n",
        "\n",
        "---\n",
        "\n",
        "\n",
        "\n",
        "tot = 最大容量<br>\n",
        "sbi = 目前數量<br>\n",
        "bemp = 可停的數量<br>\n",
        "act = 是否可用（1為可用）<br>\n",
        "<font color=yellow>注：tot = sbi + bemp</font> <br>"
      ],
      "metadata": {
        "id": "GsNq5LtWLLwu"
      }
    },
    {
      "cell_type": "code",
      "source": [
        "def error_measure(data):\n",
        "  error = 0\n",
        "\n",
        "  return error"
      ],
      "metadata": {
        "id": "lwU_CH9KPHFf"
      },
      "execution_count": null,
      "outputs": []
    },
    {
      "cell_type": "code",
      "source": [
        "from sklearn.model_selection import cross_val_score, KFold\n",
        "from sklearn.svm import SVR\n",
        "from sklearn.preprocessing import StandardScaler\n",
        "from sklearn.pipeline import make_pipeline\n",
        "\n",
        "# 数据准备\n",
        "features = df[[\"date\", \"station\", \"time\", \"tot\", \"bemp\", \"act\"]]\n",
        "target = df[\"sbi\"]\n",
        "\n",
        "# 特征缩放和SVM模型建立\n",
        "model = make_pipeline(StandardScaler(), SVR(kernel='linear'))\n",
        "\n",
        "# 10折交叉验证\n",
        "kf = KFold(n_splits=10, shuffle=True, random_state=42)\n",
        "mse_scores = cross_val_score(model, features, target, cv=kf, scoring='neg_mean_squared_error')\n",
        "\n",
        "# 计算平均均方误差\n",
        "avg_mse = -mse_scores.mean()\n",
        "print(f\"Average Mean Squared Error: {avg_mse}\")\n"
      ],
      "metadata": {
        "id": "HAy1KJUoLLkb"
      },
      "execution_count": null,
      "outputs": []
    },
    {
      "cell_type": "code",
      "source": [],
      "metadata": {
        "id": "eiLpb0YZPFZz"
      },
      "execution_count": null,
      "outputs": []
    },
    {
      "cell_type": "code",
      "source": [],
      "metadata": {
        "id": "woucWtZ4LJ5x"
      },
      "execution_count": null,
      "outputs": []
    }
  ]
}